{
 "cells": [
  {
   "cell_type": "code",
   "execution_count": 2,
   "id": "72c99238",
   "metadata": {},
   "outputs": [
    {
     "name": "stdout",
     "output_type": "stream",
     "text": [
      "Twinkle, twinkle, little star,\n",
      "\t How I wonder what you are!\n",
      "\t \t Up above the world so high,\n",
      "\t \t Like a diamond in the sky.\n",
      "Twinkle, twinkle, little star,\n",
      "\t How I wonder what you are!\n"
     ]
    }
   ],
   "source": [
    "print (\"Twinkle, twinkle, little star,\")\n",
    "print (\"\\t How I wonder what you are!\")\n",
    "print (\"\\t \\t Up above the world so high,\")\n",
    "print (\"\\t \\t Like a diamond in the sky.\")\n",
    "print (\"Twinkle, twinkle, little star,\")\n",
    "print (\"\\t How I wonder what you are!\")"
   ]
  },
  {
   "cell_type": "code",
   "execution_count": 3,
   "id": "03dbaa35",
   "metadata": {},
   "outputs": [
    {
     "name": "stdout",
     "output_type": "stream",
     "text": [
      "Python 3\n"
     ]
    }
   ],
   "source": [
    "print(\"Python 3\")"
   ]
  },
  {
   "cell_type": "code",
   "execution_count": 9,
   "id": "eda1a213",
   "metadata": {},
   "outputs": [
    {
     "name": "stdout",
     "output_type": "stream",
     "text": [
      "Today's date:  = 1/1/2022\n",
      "The time is now: = 10:9:3\n"
     ]
    }
   ],
   "source": [
    "import datetime\n",
    "\n",
    "e = datetime.datetime.now()\n",
    "\n",
    "print (\"Today's date:  = %s/%s/%s\" % (e.day, e.month, e.year))\n",
    "\n",
    "print (\"The time is now: = %s:%s:%s\" % (e.hour, e.minute, e.second))"
   ]
  },
  {
   "cell_type": "code",
   "execution_count": 10,
   "id": "dd0c4cf6",
   "metadata": {},
   "outputs": [
    {
     "name": "stdout",
     "output_type": "stream",
     "text": [
      "Enter a  circle radius :4\n",
      "Calculated area of a circle = 50.24\n"
     ]
    }
   ],
   "source": [
    "Pi = 3.14\n",
    "Radius = float(input(\"Enter a  circle radius :\"))\n",
    "circle_area = Pi * Radius * Radius\n",
    "print(\"Calculated area of a circle = %.2f\" %circle_area)\n"
   ]
  },
  {
   "cell_type": "code",
   "execution_count": 14,
   "id": "10efcd08",
   "metadata": {},
   "outputs": [
    {
     "name": "stdout",
     "output_type": "stream",
     "text": [
      "Input your First Name : Kanwal\n",
      "Input your Last Name : Azeem\n",
      "  Azeem Kanwal\n"
     ]
    }
   ],
   "source": [
    "fname = input(\"Input your First Name : \")\n",
    "lname = input(\"Input your Last Name : \")\n",
    "print (\"  \" + lname + \" \" + fname)"
   ]
  },
  {
   "cell_type": "code",
   "execution_count": 21,
   "id": "510cdfc7",
   "metadata": {},
   "outputs": [
    {
     "name": "stdout",
     "output_type": "stream",
     "text": [
      "Input first Number: 4\n",
      "Input Second Number: 6\n",
      "The Sum of 2 Numbers is:  10\n"
     ]
    }
   ],
   "source": [
    "x = input(\"Input first Number: \")\n",
    "y = input (\"Input Second Number: \")\n",
    "sum = int(x) + int(y)\n",
    "print (\"The Sum of 2 Numbers is: \", sum )"
   ]
  },
  {
   "cell_type": "markdown",
   "id": "7e45b96b",
   "metadata": {},
   "source": []
  }
 ],
 "metadata": {
  "kernelspec": {
   "display_name": "Python 3 (ipykernel)",
   "language": "python",
   "name": "python3"
  },
  "language_info": {
   "codemirror_mode": {
    "name": "ipython",
    "version": 3
   },
   "file_extension": ".py",
   "mimetype": "text/x-python",
   "name": "python",
   "nbconvert_exporter": "python",
   "pygments_lexer": "ipython3",
   "version": "3.9.7"
  }
 },
 "nbformat": 4,
 "nbformat_minor": 5
}
